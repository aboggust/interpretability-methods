{
 "cells": [
  {
   "cell_type": "code",
   "execution_count": 1,
   "metadata": {},
   "outputs": [],
   "source": [
    "# Example usage of different interpretability techniques."
   ]
  },
  {
   "cell_type": "code",
   "execution_count": 2,
   "metadata": {},
   "outputs": [],
   "source": [
    "%load_ext autoreload\n",
    "%autoreload 2"
   ]
  },
  {
   "cell_type": "code",
   "execution_count": 3,
   "metadata": {},
   "outputs": [],
   "source": [
    "import torch\n",
    "import torchvision.models as models\n",
    "import numpy as np\n",
    "import PIL.Image\n",
    "import matplotlib.pyplot as plt\n",
    "import json\n",
    "\n",
    "from vanilla_gradients import VanillaGradients\n",
    "from visualization import visualize_mask"
   ]
  },
  {
   "cell_type": "markdown",
   "metadata": {},
   "source": [
    "## Load Model and Example Image"
   ]
  },
  {
   "cell_type": "code",
   "execution_count": 4,
   "metadata": {},
   "outputs": [],
   "source": [
    "# Load Inception V3 Model\n",
    "def load_model_from_pytorch(architecture, pretrained=True):\n",
    "    model = models.__dict__[architecture](pretrained=pretrained)\n",
    "    return model \n",
    "MODEL = load_model_from_pytorch('inception_v3', pretrained=True).cuda().eval()"
   ]
  },
  {
   "cell_type": "code",
   "execution_count": null,
   "metadata": {},
   "outputs": [],
   "source": [
    "# Load Test Image\n",
    "def load_image(file_path):\n",
    "    im = PIL.Image.open(file_path)\n",
    "    im = np.asarray(im)\n",
    "    return im / 127.5 - 1.0 # normalize -1 to 1 for inception\n",
    "\n",
    "def show_image(im, title='', ax=None):\n",
    "    if ax is None:\n",
    "        plt.figure()\n",
    "    plt.axis('off')\n",
    "    im = ((im + 1) * 127.5).astype(np.uint8)\n",
    "    plt.imshow(im)\n",
    "    plt.title(title)\n",
    "    \n",
    "IMAGE = load_image('./doberman.png')\n",
    "show_image(IMAGE)"
   ]
  },
  {
   "cell_type": "code",
   "execution_count": null,
   "metadata": {},
   "outputs": [],
   "source": [
    "# Predict Image Class\n",
    "with open('/data/angie/imagenet/labels.json', 'r') as f:\n",
    "    labels = json.load(f)\n",
    "tensor_image = torch.from_numpy(IMAGE.transpose(2, 0, 1)).cuda().float()\n",
    "input_batch = tensor_image.unsqueeze(0)\n",
    "output = MODEL(input_batch)\n",
    "prediction = np.argmax(output.cpu().detach().numpy())\n",
    "print(prediction, labels[prediction])"
   ]
  },
  {
   "cell_type": "markdown",
   "metadata": {},
   "source": [
    "## Vanilla Gradients"
   ]
  },
  {
   "cell_type": "code",
   "execution_count": null,
   "metadata": {},
   "outputs": [],
   "source": [
    "vanilla_gradients = VanillaGradients(MODEL)\n",
    "gradients = vanilla_gradients.get_mask(input_batch, False)\n",
    "for i in range(input_batch.shape[0]):\n",
    "    visualize_mask(gradients[i])"
   ]
  },
  {
   "cell_type": "code",
   "execution_count": null,
   "metadata": {},
   "outputs": [],
   "source": []
  }
 ],
 "metadata": {
  "kernelspec": {
   "display_name": "Python 3",
   "language": "python",
   "name": "python3"
  },
  "language_info": {
   "codemirror_mode": {
    "name": "ipython",
    "version": 3
   },
   "file_extension": ".py",
   "mimetype": "text/x-python",
   "name": "python",
   "nbconvert_exporter": "python",
   "pygments_lexer": "ipython3",
   "version": "3.8.3"
  }
 },
 "nbformat": 4,
 "nbformat_minor": 4
}
